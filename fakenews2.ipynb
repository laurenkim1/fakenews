{
 "cells": [
  {
   "cell_type": "code",
   "execution_count": 1,
   "metadata": {},
   "outputs": [
    {
     "name": "stderr",
     "output_type": "stream",
     "text": [
      "/anaconda2/lib/python2.7/site-packages/h5py/__init__.py:36: FutureWarning: Conversion of the second argument of issubdtype from `float` to `np.floating` is deprecated. In future, it will be treated as `np.float64 == np.dtype(float).type`.\n",
      "  from ._conv import register_converters as _register_converters\n"
     ]
    }
   ],
   "source": [
    "import numpy as np \n",
    "import pandas as pd \n",
    "import re\n",
    "from random import randint\n",
    "from sklearn.model_selection import train_test_split\n",
    "import tensorflow as tf\n",
    "\n",
    "batchSize = 1000\n",
    "lstmUnits = 64\n",
    "numClasses = 2\n",
    "iterations = 100000\n",
    "maxSeqLength = 200\n",
    "numDimensions=100\n",
    "\n",
    "training_epochs = 200\n",
    "display_step = 1"
   ]
  },
  {
   "cell_type": "code",
   "execution_count": 5,
   "metadata": {},
   "outputs": [],
   "source": [
    "def loadGloveModel():\n",
    "    print \"Loading Glove Model\"\n",
    "    f = open('glove.6B.100d.txt','r')\n",
    "    model = {}\n",
    "    for line in f:\n",
    "        splitLine = line.split()\n",
    "        word = splitLine[0]\n",
    "        embedding = np.array([float(val) for val in splitLine[1:]])\n",
    "        model[word] = embedding\n",
    "    print \"Done.\",len(model),\" words loaded!\"\n",
    "    return model"
   ]
  },
  {
   "cell_type": "code",
   "execution_count": 6,
   "metadata": {},
   "outputs": [
    {
     "name": "stdout",
     "output_type": "stream",
     "text": [
      "Loading Glove Model\n",
      "Done. 400000  words loaded!\n"
     ]
    }
   ],
   "source": [
    "# glove word-vec dictionary\n",
    "glove = loadGloveModel()"
   ]
  },
  {
   "cell_type": "code",
   "execution_count": 11,
   "metadata": {},
   "outputs": [
    {
     "name": "stdout",
     "output_type": "stream",
     "text": [
      "(400000, 100)\n",
      "(400000,)\n"
     ]
    }
   ],
   "source": [
    "glove_vecs = pd.Series(glove)\n",
    "glove_vecs = np.array(list(glove_vecs.values))\n",
    "print glove_vecs.shape \n",
    "\n",
    "glove_keys=np.array(glove.keys(), dtype=object)\n",
    "print glove_keys.shape\n",
    "glove_keys = unicode(glove_keys.tolist())"
   ]
  },
  {
   "cell_type": "code",
   "execution_count": 12,
   "metadata": {},
   "outputs": [
    {
     "name": "stdout",
     "output_type": "stream",
     "text": [
      "(42999, 200)\n",
      "(42999,)\n"
     ]
    }
   ],
   "source": [
    "matrix_data = np.load('my_train_matrix.npy')\n",
    "np.random.shuffle(matrix_data)\n",
    "labels = matrix_data[:-1,-1]\n",
    "data = matrix_data[:-1,:-1]\n",
    "print data.shape\n",
    "print labels.shape"
   ]
  },
  {
   "cell_type": "code",
   "execution_count": 13,
   "metadata": {},
   "outputs": [
    {
     "name": "stdout",
     "output_type": "stream",
     "text": [
      "(42999, 200, 100)\n"
     ]
    }
   ],
   "source": [
    "def word2vec(word):\n",
    "    try:\n",
    "        return glove[word]\n",
    "    except KeyError:\n",
    "        return np.zeros((100))\n",
    "\n",
    "vec_data = [[word2vec(w) for w in story] for story in data]\n",
    "vec_data = np.array(vec_data)\n",
    "print vec_data.shape"
   ]
  },
  {
   "cell_type": "code",
   "execution_count": 14,
   "metadata": {},
   "outputs": [],
   "source": [
    "def to_binary(X):\n",
    "    if X == \"REAL\":\n",
    "        return 1\n",
    "    else:\n",
    "        return 0\n",
    "\n",
    "def one_hot_encode(labels):\n",
    "    labels = map(to_binary, labels)\n",
    "    n_labels = len(labels)\n",
    "    n_unique_labels = len(np.unique(labels))\n",
    "    one_hot_encode = np.zeros((n_labels,n_unique_labels))\n",
    "    one_hot_encode[np.arange(n_labels), [int(l) for l in labels]] = 1\n",
    "    return one_hot_encode\n",
    "\n",
    "binary_labels = one_hot_encode(labels)"
   ]
  },
  {
   "cell_type": "code",
   "execution_count": 8,
   "metadata": {},
   "outputs": [],
   "source": [
    "x_train, x_val, y_train, y_val = train_test_split(vec_data, binary_labels, test_size=0.20, random_state=42)"
   ]
  },
  {
   "cell_type": "code",
   "execution_count": 17,
   "metadata": {},
   "outputs": [
    {
     "name": "stdout",
     "output_type": "stream",
     "text": [
      "WARNING:tensorflow:From /anaconda2/lib/python2.7/site-packages/tensorflow/contrib/learn/python/learn/datasets/base.py:198: retry (from tensorflow.contrib.learn.python.learn.datasets.base) is deprecated and will be removed in a future version.\n",
      "Instructions for updating:\n",
      "Use the retry module or similar alternatives.\n"
     ]
    },
    {
     "name": "stderr",
     "output_type": "stream",
     "text": [
      "/anaconda2/lib/python2.7/site-packages/tensorflow/python/ops/gradients_impl.py:100: UserWarning: Converting sparse IndexedSlices to a dense Tensor of unknown shape. This may consume a large amount of memory.\n",
      "  \"Converting sparse IndexedSlices to a dense Tensor of unknown shape. \"\n"
     ]
    }
   ],
   "source": [
    "tf.reset_default_graph()\n",
    "\n",
    "labels = tf.placeholder(tf.float32, [None, numClasses])\n",
    "#input_data = tf.placeholder(tf.int32, [batchSize, maxSeqLength])\n",
    "\n",
    "data = tf.placeholder(tf.float32, shape=[None, maxSeqLength, numDimensions], name='data')\n",
    "#tf.Variable(tf.zeros([None, maxSeqLength, numDimensions]),dtype=tf.float32)\n",
    "#data = tf.nn.embedding_lookup(wordVectors,input_data)\n",
    "\n",
    "lstmCell = tf.contrib.rnn.BasicLSTMCell(lstmUnits)\n",
    "lstmCell = tf.contrib.rnn.DropoutWrapper(cell=lstmCell, output_keep_prob=0.75)\n",
    "value, _ = tf.nn.dynamic_rnn(lstmCell, data, dtype=tf.float32)\n",
    "\n",
    "weight = tf.Variable(tf.truncated_normal([lstmUnits, numClasses]))\n",
    "bias = tf.Variable(tf.constant(0.1, shape=[numClasses]))\n",
    "value = tf.transpose(value, [1, 0, 2])\n",
    "last = tf.gather(value, int(value.get_shape()[0]) - 1)\n",
    "prediction = (tf.matmul(last, weight) + bias)\n",
    "\n",
    "correctPred = tf.equal(tf.argmax(prediction,1), tf.argmax(labels,1))\n",
    "accuracy = tf.reduce_mean(tf.cast(correctPred, tf.float32))\n",
    "\n",
    "loss = tf.reduce_mean(tf.nn.softmax_cross_entropy_with_logits_v2(logits=prediction, labels=labels))\n",
    "optimizer = tf.train.AdamOptimizer().minimize(loss)"
   ]
  },
  {
   "cell_type": "code",
   "execution_count": 33,
   "metadata": {},
   "outputs": [
    {
     "name": "stdout",
     "output_type": "stream",
     "text": [
      "('Epoch:', '0001', 'cost=', '0.522030234')\n",
      "('Epoch:', '0002', 'cost=', '0.402257770')\n",
      "('Epoch:', '0003', 'cost=', '0.377179325')\n",
      "('Epoch:', '0004', 'cost=', '0.334135115')\n",
      "('Epoch:', '0005', 'cost=', '0.317747355')\n",
      "('Epoch:', '0006', 'cost=', '0.321579754')\n",
      "('Epoch:', '0007', 'cost=', '0.302445203')\n",
      "('Epoch:', '0008', 'cost=', '0.274533570')\n",
      "('Epoch:', '0009', 'cost=', '0.309226215')\n",
      "('Epoch:', '0010', 'cost=', '0.426435262')\n",
      "('Epoch:', '0011', 'cost=', '0.334859729')\n",
      "('Epoch:', '0012', 'cost=', '0.303183258')\n",
      "('Epoch:', '0013', 'cost=', '0.282682955')\n",
      "('Epoch:', '0014', 'cost=', '0.321835011')\n",
      "('Epoch:', '0015', 'cost=', '0.263484567')\n",
      "('Epoch:', '0016', 'cost=', '0.252099305')\n",
      "('Epoch:', '0017', 'cost=', '0.435501844')\n",
      "('Epoch:', '0018', 'cost=', '0.313765854')\n",
      "('Epoch:', '0019', 'cost=', '0.283792138')\n",
      "('Epoch:', '0020', 'cost=', '0.245909587')\n",
      "('Epoch:', '0021', 'cost=', '0.235944539')\n",
      "('Epoch:', '0022', 'cost=', '0.216612861')\n",
      "('Epoch:', '0023', 'cost=', '0.216807202')\n",
      "('Epoch:', '0024', 'cost=', '0.200635895')\n",
      "('Epoch:', '0025', 'cost=', '0.193622008')\n",
      "('Epoch:', '0026', 'cost=', '0.184393689')\n",
      "('Epoch:', '0027', 'cost=', '0.187523484')\n",
      "('Epoch:', '0028', 'cost=', '0.176589847')\n",
      "('Epoch:', '0029', 'cost=', '0.174181253')\n",
      "('Epoch:', '0030', 'cost=', '0.164299354')\n",
      "('Epoch:', '0031', 'cost=', '0.160211340')\n",
      "('Epoch:', '0032', 'cost=', '0.162055492')\n",
      "('Epoch:', '0033', 'cost=', '0.147464544')\n",
      "('Epoch:', '0034', 'cost=', '0.148951933')\n",
      "('Epoch:', '0035', 'cost=', '0.140187711')\n",
      "('Epoch:', '0036', 'cost=', '0.141230151')\n",
      "('Epoch:', '0037', 'cost=', '0.135223225')\n",
      "('Epoch:', '0038', 'cost=', '0.127773613')\n",
      "('Epoch:', '0039', 'cost=', '0.127380058')\n",
      "('Epoch:', '0040', 'cost=', '0.157801777')\n",
      "('Epoch:', '0041', 'cost=', '0.145508394')\n",
      "('Epoch:', '0042', 'cost=', '0.129942179')\n",
      "('Epoch:', '0043', 'cost=', '0.135588422')\n",
      "('Epoch:', '0044', 'cost=', '0.119859479')\n",
      "('Epoch:', '0045', 'cost=', '0.115011021')\n",
      "('Epoch:', '0046', 'cost=', '0.112999223')\n",
      "('Epoch:', '0047', 'cost=', '0.108895160')\n",
      "('Epoch:', '0048', 'cost=', '0.110179633')\n",
      "('Epoch:', '0049', 'cost=', '0.105215915')\n",
      "('Epoch:', '0050', 'cost=', '0.108469024')\n",
      "('Epoch:', '0051', 'cost=', '0.101251684')\n",
      "('Epoch:', '0052', 'cost=', '0.098677918')\n",
      "('Epoch:', '0053', 'cost=', '0.101086736')\n",
      "('Epoch:', '0054', 'cost=', '0.097904198')\n",
      "('Epoch:', '0055', 'cost=', '0.085529655')\n",
      "('Epoch:', '0056', 'cost=', '0.086247720')\n",
      "('Epoch:', '0057', 'cost=', '0.081805430')\n",
      "('Epoch:', '0058', 'cost=', '0.084085763')\n",
      "('Epoch:', '0059', 'cost=', '0.091100633')\n",
      "('Epoch:', '0060', 'cost=', '0.091958351')\n",
      "('Epoch:', '0061', 'cost=', '0.089807510')\n",
      "('Epoch:', '0062', 'cost=', '0.082853451')\n",
      "('Epoch:', '0063', 'cost=', '0.079560116')\n",
      "('Epoch:', '0064', 'cost=', '0.079803951')\n",
      "('Epoch:', '0065', 'cost=', '0.076615795')\n",
      "('Epoch:', '0066', 'cost=', '0.072828956')\n",
      "('Epoch:', '0067', 'cost=', '0.085812747')\n",
      "('Epoch:', '0068', 'cost=', '0.103745729')\n",
      "('Epoch:', '0069', 'cost=', '0.075235277')\n",
      "('Epoch:', '0070', 'cost=', '0.073740348')\n",
      "('Epoch:', '0071', 'cost=', '0.071933486')\n",
      "('Epoch:', '0072', 'cost=', '0.063948579')\n",
      "('Epoch:', '0073', 'cost=', '0.060385279')\n",
      "('Epoch:', '0074', 'cost=', '0.060995493')\n",
      "('Epoch:', '0075', 'cost=', '0.058129687')\n",
      "('Epoch:', '0076', 'cost=', '0.064386576')\n",
      "('Epoch:', '0077', 'cost=', '0.056804292')\n",
      "('Epoch:', '0078', 'cost=', '0.053458497')\n",
      "('Epoch:', '0079', 'cost=', '0.051926315')\n",
      "('Epoch:', '0080', 'cost=', '0.099288695')\n",
      "('Epoch:', '0081', 'cost=', '0.071223274')\n",
      "('Epoch:', '0082', 'cost=', '0.059071247')\n",
      "('Epoch:', '0083', 'cost=', '0.054167356')\n",
      "('Epoch:', '0084', 'cost=', '0.049802590')\n",
      "('Epoch:', '0085', 'cost=', '0.043883841')\n",
      "('Epoch:', '0086', 'cost=', '0.040430810')\n",
      "('Epoch:', '0087', 'cost=', '0.039094366')\n",
      "('Epoch:', '0088', 'cost=', '0.049457133')\n",
      "('Epoch:', '0089', 'cost=', '0.035388991')\n",
      "('Epoch:', '0090', 'cost=', '0.054690149')\n",
      "('Epoch:', '0091', 'cost=', '0.042068064')\n",
      "('Epoch:', '0092', 'cost=', '0.045536686')\n",
      "('Epoch:', '0093', 'cost=', '0.048598502')\n",
      "('Epoch:', '0094', 'cost=', '0.033839550')\n",
      "('Epoch:', '0095', 'cost=', '0.035928160')\n",
      "('Epoch:', '0096', 'cost=', '0.052788079')\n",
      "('Epoch:', '0097', 'cost=', '0.063808821')\n",
      "('Epoch:', '0098', 'cost=', '0.031876899')\n",
      "('Epoch:', '0099', 'cost=', '0.043869767')\n",
      "('Epoch:', '0100', 'cost=', '0.026126120')\n",
      "('Epoch:', '0101', 'cost=', '0.025575683')\n",
      "('Epoch:', '0102', 'cost=', '0.025247220')\n",
      "('Epoch:', '0103', 'cost=', '0.025738420')\n",
      "('Epoch:', '0104', 'cost=', '0.021997834')\n",
      "('Epoch:', '0105', 'cost=', '0.028234374')\n",
      "('Epoch:', '0106', 'cost=', '0.027319228')\n",
      "('Epoch:', '0107', 'cost=', '0.051602650')\n",
      "('Epoch:', '0108', 'cost=', '0.031523280')\n",
      "('Epoch:', '0109', 'cost=', '0.040753797')\n",
      "('Epoch:', '0110', 'cost=', '0.024593994')\n",
      "('Epoch:', '0111', 'cost=', '0.030480279')\n",
      "('Epoch:', '0112', 'cost=', '0.072281174')\n",
      "('Epoch:', '0113', 'cost=', '0.073621646')\n",
      "('Epoch:', '0114', 'cost=', '0.029644324')\n",
      "('Epoch:', '0115', 'cost=', '0.018537885')\n",
      "('Epoch:', '0116', 'cost=', '0.020377282')\n",
      "('Epoch:', '0117', 'cost=', '0.017735163')\n",
      "('Epoch:', '0118', 'cost=', '0.010795422')\n",
      "('Epoch:', '0119', 'cost=', '0.018325198')\n",
      "('Epoch:', '0120', 'cost=', '0.012864942')\n",
      "('Epoch:', '0121', 'cost=', '0.016763434')\n",
      "('Epoch:', '0122', 'cost=', '0.023645256')\n",
      "('Epoch:', '0123', 'cost=', '0.015398932')\n",
      "('Epoch:', '0124', 'cost=', '0.013045506')\n",
      "('Epoch:', '0125', 'cost=', '0.043574963')\n",
      "('Epoch:', '0126', 'cost=', '0.061552197')\n",
      "('Epoch:', '0127', 'cost=', '0.019409303')\n",
      "('Epoch:', '0128', 'cost=', '0.048377689')\n",
      "('Epoch:', '0129', 'cost=', '0.013669241')\n",
      "('Epoch:', '0130', 'cost=', '0.020092757')\n",
      "('Epoch:', '0131', 'cost=', '0.017308038')\n",
      "('Epoch:', '0132', 'cost=', '0.009884443')\n",
      "('Epoch:', '0133', 'cost=', '0.016067475')\n",
      "('Epoch:', '0134', 'cost=', '0.022226980')\n",
      "('Epoch:', '0135', 'cost=', '0.038761251')\n",
      "('Epoch:', '0136', 'cost=', '0.031402037')\n",
      "('Epoch:', '0137', 'cost=', '0.028735407')\n",
      "('Epoch:', '0138', 'cost=', '0.026409097')\n",
      "('Epoch:', '0139', 'cost=', '0.020061882')\n",
      "('Epoch:', '0140', 'cost=', '0.036007512')\n",
      "('Epoch:', '0141', 'cost=', '0.040447697')\n",
      "('Epoch:', '0142', 'cost=', '0.020833211')\n",
      "('Epoch:', '0143', 'cost=', '0.092979349')\n",
      "('Epoch:', '0144', 'cost=', '0.013087745')\n",
      "('Epoch:', '0145', 'cost=', '0.013051731')\n",
      "('Epoch:', '0146', 'cost=', '0.007280815')\n",
      "('Epoch:', '0147', 'cost=', '0.005908098')\n",
      "('Epoch:', '0148', 'cost=', '0.017262274')\n",
      "('Epoch:', '0149', 'cost=', '0.010883550')\n",
      "('Epoch:', '0150', 'cost=', '0.013222941')\n",
      "('Epoch:', '0151', 'cost=', '0.024708625')\n",
      "('Epoch:', '0152', 'cost=', '0.012392354')\n",
      "('Epoch:', '0153', 'cost=', '0.008178327')\n",
      "('Epoch:', '0154', 'cost=', '0.004025817')\n",
      "('Epoch:', '0155', 'cost=', '0.004990990')\n",
      "('Epoch:', '0156', 'cost=', '0.004282315')\n",
      "('Epoch:', '0157', 'cost=', '0.002194215')\n",
      "('Epoch:', '0158', 'cost=', '0.003300640')\n",
      "('Epoch:', '0159', 'cost=', '0.010184202')\n",
      "('Epoch:', '0160', 'cost=', '0.008677325')\n",
      "('Epoch:', '0161', 'cost=', '0.005486930')\n",
      "('Epoch:', '0162', 'cost=', '0.052396484')\n",
      "('Epoch:', '0163', 'cost=', '0.006083927')\n",
      "('Epoch:', '0164', 'cost=', '0.016051134')\n",
      "('Epoch:', '0165', 'cost=', '0.002515967')\n",
      "('Epoch:', '0166', 'cost=', '0.004114771')\n",
      "('Epoch:', '0167', 'cost=', '0.004673173')\n",
      "('Epoch:', '0168', 'cost=', '0.008034384')\n",
      "('Epoch:', '0169', 'cost=', '0.013868930')\n",
      "('Epoch:', '0170', 'cost=', '0.004341815')\n",
      "('Epoch:', '0171', 'cost=', '0.005082801')\n",
      "('Epoch:', '0172', 'cost=', '0.002629444')\n",
      "('Epoch:', '0173', 'cost=', '0.003422290')\n",
      "('Epoch:', '0174', 'cost=', '0.009545231')\n",
      "('Epoch:', '0175', 'cost=', '0.008978321')\n",
      "('Epoch:', '0176', 'cost=', '0.018626116')\n",
      "('Epoch:', '0177', 'cost=', '0.003138784')\n",
      "('Epoch:', '0178', 'cost=', '0.004115084')\n",
      "('Epoch:', '0179', 'cost=', '0.005140412')\n",
      "('Epoch:', '0180', 'cost=', '0.003951221')\n",
      "('Epoch:', '0181', 'cost=', '0.015005393')\n",
      "('Epoch:', '0182', 'cost=', '0.005797412')\n",
      "('Epoch:', '0183', 'cost=', '0.003838601')\n",
      "('Epoch:', '0184', 'cost=', '0.003838967')\n",
      "('Epoch:', '0185', 'cost=', '0.006877252')\n",
      "('Epoch:', '0186', 'cost=', '0.029028147')\n",
      "('Epoch:', '0187', 'cost=', '0.005338829')\n",
      "('Epoch:', '0188', 'cost=', '0.015931442')\n",
      "('Epoch:', '0189', 'cost=', '0.010994959')\n",
      "('Epoch:', '0190', 'cost=', '0.008338115')\n",
      "('Epoch:', '0191', 'cost=', '0.028767280')\n"
     ]
    },
    {
     "name": "stdout",
     "output_type": "stream",
     "text": [
      "('Epoch:', '0192', 'cost=', '0.015939135')\n",
      "('Epoch:', '0193', 'cost=', '0.025663735')\n",
      "('Epoch:', '0194', 'cost=', '0.020660438')\n",
      "('Epoch:', '0195', 'cost=', '0.006802618')\n",
      "('Epoch:', '0196', 'cost=', '0.008750542')\n",
      "('Epoch:', '0197', 'cost=', '0.075642988')\n",
      "('Epoch:', '0198', 'cost=', '0.020174643')\n",
      "('Epoch:', '0199', 'cost=', '0.031561803')\n",
      "('Epoch:', '0200', 'cost=', '0.042696152')\n",
      "('Epoch:', '0201', 'cost=', '0.045962743')\n",
      "('Epoch:', '0202', 'cost=', '0.029400622')\n",
      "('Epoch:', '0203', 'cost=', '0.018198753')\n",
      "('Epoch:', '0204', 'cost=', '0.007645612')\n",
      "('Epoch:', '0205', 'cost=', '0.003228384')\n",
      "('Epoch:', '0206', 'cost=', '0.002973609')\n",
      "('Epoch:', '0207', 'cost=', '0.001709450')\n",
      "('Epoch:', '0208', 'cost=', '0.001554550')\n",
      "('Epoch:', '0209', 'cost=', '0.002011007')\n",
      "('Epoch:', '0210', 'cost=', '0.002087251')\n",
      "('Epoch:', '0211', 'cost=', '0.001472548')\n",
      "('Epoch:', '0212', 'cost=', '0.003710862')\n",
      "('Epoch:', '0213', 'cost=', '0.000432693')\n",
      "('Epoch:', '0214', 'cost=', '0.000960654')\n",
      "('Epoch:', '0215', 'cost=', '0.001078967')\n",
      "('Epoch:', '0216', 'cost=', '0.002280828')\n",
      "('Epoch:', '0217', 'cost=', '0.000748368')\n",
      "('Epoch:', '0218', 'cost=', '0.000897598')\n",
      "('Epoch:', '0219', 'cost=', '0.000779300')\n",
      "('Epoch:', '0220', 'cost=', '0.000908597')\n",
      "('Epoch:', '0221', 'cost=', '0.000369563')\n",
      "('Epoch:', '0222', 'cost=', '0.000249217')\n",
      "('Epoch:', '0223', 'cost=', '0.000523964')\n",
      "('Epoch:', '0224', 'cost=', '0.001128735')\n",
      "('Epoch:', '0225', 'cost=', '0.024072492')\n",
      "('Epoch:', '0226', 'cost=', '0.000948001')\n",
      "('Epoch:', '0227', 'cost=', '0.000294762')\n",
      "('Epoch:', '0228', 'cost=', '0.001654065')\n",
      "('Epoch:', '0229', 'cost=', '0.002256865')\n",
      "('Epoch:', '0230', 'cost=', '0.003005358')\n",
      "('Epoch:', '0231', 'cost=', '0.002201282')\n",
      "('Epoch:', '0232', 'cost=', '0.002285535')\n",
      "('Epoch:', '0233', 'cost=', '0.008605289')\n",
      "('Epoch:', '0234', 'cost=', '0.001653196')\n",
      "('Epoch:', '0235', 'cost=', '0.003063367')\n",
      "('Epoch:', '0236', 'cost=', '0.001726373')\n",
      "('Epoch:', '0237', 'cost=', '0.000752762')\n",
      "('Epoch:', '0238', 'cost=', '0.000547104')\n",
      "('Epoch:', '0239', 'cost=', '0.000855302')\n",
      "('Epoch:', '0240', 'cost=', '0.000348515')\n",
      "('Epoch:', '0241', 'cost=', '0.000562395')\n",
      "('Epoch:', '0242', 'cost=', '0.000396474')\n",
      "('Epoch:', '0243', 'cost=', '0.000326297')\n",
      "('Epoch:', '0244', 'cost=', '0.000440178')\n",
      "('Epoch:', '0245', 'cost=', '0.000286536')\n",
      "('Epoch:', '0246', 'cost=', '0.000165261')\n",
      "('Epoch:', '0247', 'cost=', '0.000183804')\n",
      "('Epoch:', '0248', 'cost=', '0.000165122')\n",
      "('Epoch:', '0249', 'cost=', '0.000136431')\n",
      "('Epoch:', '0250', 'cost=', '0.000160275')\n"
     ]
    },
    {
     "ename": "KeyboardInterrupt",
     "evalue": "",
     "output_type": "error",
     "traceback": [
      "\u001b[0;31m---------------------------------------------------------------------------\u001b[0m",
      "\u001b[0;31mKeyboardInterrupt\u001b[0m                         Traceback (most recent call last)",
      "\u001b[0;32m<ipython-input-33-d7a540391479>\u001b[0m in \u001b[0;36m<module>\u001b[0;34m()\u001b[0m\n\u001b[1;32m     11\u001b[0m         \u001b[0mbatch_x\u001b[0m\u001b[0;34m,\u001b[0m \u001b[0mbatch_y\u001b[0m \u001b[0;34m=\u001b[0m \u001b[0mx_batches\u001b[0m\u001b[0;34m[\u001b[0m\u001b[0mi\u001b[0m\u001b[0;34m]\u001b[0m\u001b[0;34m,\u001b[0m \u001b[0my_batches\u001b[0m\u001b[0;34m[\u001b[0m\u001b[0mi\u001b[0m\u001b[0;34m]\u001b[0m\u001b[0;34m\u001b[0m\u001b[0m\n\u001b[1;32m     12\u001b[0m         _, c = sess.run([optimizer, loss], \n\u001b[0;32m---> 13\u001b[0;31m                         feed_dict={data: batch_x, labels: batch_y})\n\u001b[0m\u001b[1;32m     14\u001b[0m         \u001b[0mnew_cost\u001b[0m \u001b[0;34m=\u001b[0m \u001b[0mc\u001b[0m\u001b[0;34m\u001b[0m\u001b[0m\n\u001b[1;32m     15\u001b[0m     \u001b[0;32mif\u001b[0m \u001b[0mepoch\u001b[0m \u001b[0;34m%\u001b[0m \u001b[0mdisplay_step\u001b[0m \u001b[0;34m==\u001b[0m \u001b[0;36m0\u001b[0m\u001b[0;34m:\u001b[0m\u001b[0;34m\u001b[0m\u001b[0m\n",
      "\u001b[0;32m/anaconda2/lib/python2.7/site-packages/tensorflow/python/client/session.pyc\u001b[0m in \u001b[0;36mrun\u001b[0;34m(self, fetches, feed_dict, options, run_metadata)\u001b[0m\n\u001b[1;32m    903\u001b[0m     \u001b[0;32mtry\u001b[0m\u001b[0;34m:\u001b[0m\u001b[0;34m\u001b[0m\u001b[0m\n\u001b[1;32m    904\u001b[0m       result = self._run(None, fetches, feed_dict, options_ptr,\n\u001b[0;32m--> 905\u001b[0;31m                          run_metadata_ptr)\n\u001b[0m\u001b[1;32m    906\u001b[0m       \u001b[0;32mif\u001b[0m \u001b[0mrun_metadata\u001b[0m\u001b[0;34m:\u001b[0m\u001b[0;34m\u001b[0m\u001b[0m\n\u001b[1;32m    907\u001b[0m         \u001b[0mproto_data\u001b[0m \u001b[0;34m=\u001b[0m \u001b[0mtf_session\u001b[0m\u001b[0;34m.\u001b[0m\u001b[0mTF_GetBuffer\u001b[0m\u001b[0;34m(\u001b[0m\u001b[0mrun_metadata_ptr\u001b[0m\u001b[0;34m)\u001b[0m\u001b[0;34m\u001b[0m\u001b[0m\n",
      "\u001b[0;32m/anaconda2/lib/python2.7/site-packages/tensorflow/python/client/session.pyc\u001b[0m in \u001b[0;36m_run\u001b[0;34m(self, handle, fetches, feed_dict, options, run_metadata)\u001b[0m\n\u001b[1;32m   1138\u001b[0m     \u001b[0;32mif\u001b[0m \u001b[0mfinal_fetches\u001b[0m \u001b[0;32mor\u001b[0m \u001b[0mfinal_targets\u001b[0m \u001b[0;32mor\u001b[0m \u001b[0;34m(\u001b[0m\u001b[0mhandle\u001b[0m \u001b[0;32mand\u001b[0m \u001b[0mfeed_dict_tensor\u001b[0m\u001b[0;34m)\u001b[0m\u001b[0;34m:\u001b[0m\u001b[0;34m\u001b[0m\u001b[0m\n\u001b[1;32m   1139\u001b[0m       results = self._do_run(handle, final_targets, final_fetches,\n\u001b[0;32m-> 1140\u001b[0;31m                              feed_dict_tensor, options, run_metadata)\n\u001b[0m\u001b[1;32m   1141\u001b[0m     \u001b[0;32melse\u001b[0m\u001b[0;34m:\u001b[0m\u001b[0;34m\u001b[0m\u001b[0m\n\u001b[1;32m   1142\u001b[0m       \u001b[0mresults\u001b[0m \u001b[0;34m=\u001b[0m \u001b[0;34m[\u001b[0m\u001b[0;34m]\u001b[0m\u001b[0;34m\u001b[0m\u001b[0m\n",
      "\u001b[0;32m/anaconda2/lib/python2.7/site-packages/tensorflow/python/client/session.pyc\u001b[0m in \u001b[0;36m_do_run\u001b[0;34m(self, handle, target_list, fetch_list, feed_dict, options, run_metadata)\u001b[0m\n\u001b[1;32m   1319\u001b[0m     \u001b[0;32mif\u001b[0m \u001b[0mhandle\u001b[0m \u001b[0;32mis\u001b[0m \u001b[0mNone\u001b[0m\u001b[0;34m:\u001b[0m\u001b[0;34m\u001b[0m\u001b[0m\n\u001b[1;32m   1320\u001b[0m       return self._do_call(_run_fn, feeds, fetches, targets, options,\n\u001b[0;32m-> 1321\u001b[0;31m                            run_metadata)\n\u001b[0m\u001b[1;32m   1322\u001b[0m     \u001b[0;32melse\u001b[0m\u001b[0;34m:\u001b[0m\u001b[0;34m\u001b[0m\u001b[0m\n\u001b[1;32m   1323\u001b[0m       \u001b[0;32mreturn\u001b[0m \u001b[0mself\u001b[0m\u001b[0;34m.\u001b[0m\u001b[0m_do_call\u001b[0m\u001b[0;34m(\u001b[0m\u001b[0m_prun_fn\u001b[0m\u001b[0;34m,\u001b[0m \u001b[0mhandle\u001b[0m\u001b[0;34m,\u001b[0m \u001b[0mfeeds\u001b[0m\u001b[0;34m,\u001b[0m \u001b[0mfetches\u001b[0m\u001b[0;34m)\u001b[0m\u001b[0;34m\u001b[0m\u001b[0m\n",
      "\u001b[0;32m/anaconda2/lib/python2.7/site-packages/tensorflow/python/client/session.pyc\u001b[0m in \u001b[0;36m_do_call\u001b[0;34m(self, fn, *args)\u001b[0m\n\u001b[1;32m   1325\u001b[0m   \u001b[0;32mdef\u001b[0m \u001b[0m_do_call\u001b[0m\u001b[0;34m(\u001b[0m\u001b[0mself\u001b[0m\u001b[0;34m,\u001b[0m \u001b[0mfn\u001b[0m\u001b[0;34m,\u001b[0m \u001b[0;34m*\u001b[0m\u001b[0margs\u001b[0m\u001b[0;34m)\u001b[0m\u001b[0;34m:\u001b[0m\u001b[0;34m\u001b[0m\u001b[0m\n\u001b[1;32m   1326\u001b[0m     \u001b[0;32mtry\u001b[0m\u001b[0;34m:\u001b[0m\u001b[0;34m\u001b[0m\u001b[0m\n\u001b[0;32m-> 1327\u001b[0;31m       \u001b[0;32mreturn\u001b[0m \u001b[0mfn\u001b[0m\u001b[0;34m(\u001b[0m\u001b[0;34m*\u001b[0m\u001b[0margs\u001b[0m\u001b[0;34m)\u001b[0m\u001b[0;34m\u001b[0m\u001b[0m\n\u001b[0m\u001b[1;32m   1328\u001b[0m     \u001b[0;32mexcept\u001b[0m \u001b[0merrors\u001b[0m\u001b[0;34m.\u001b[0m\u001b[0mOpError\u001b[0m \u001b[0;32mas\u001b[0m \u001b[0me\u001b[0m\u001b[0;34m:\u001b[0m\u001b[0;34m\u001b[0m\u001b[0m\n\u001b[1;32m   1329\u001b[0m       \u001b[0mmessage\u001b[0m \u001b[0;34m=\u001b[0m \u001b[0mcompat\u001b[0m\u001b[0;34m.\u001b[0m\u001b[0mas_text\u001b[0m\u001b[0;34m(\u001b[0m\u001b[0me\u001b[0m\u001b[0;34m.\u001b[0m\u001b[0mmessage\u001b[0m\u001b[0;34m)\u001b[0m\u001b[0;34m\u001b[0m\u001b[0m\n",
      "\u001b[0;32m/anaconda2/lib/python2.7/site-packages/tensorflow/python/client/session.pyc\u001b[0m in \u001b[0;36m_run_fn\u001b[0;34m(feed_dict, fetch_list, target_list, options, run_metadata)\u001b[0m\n\u001b[1;32m   1310\u001b[0m       \u001b[0mself\u001b[0m\u001b[0;34m.\u001b[0m\u001b[0m_extend_graph\u001b[0m\u001b[0;34m(\u001b[0m\u001b[0;34m)\u001b[0m\u001b[0;34m\u001b[0m\u001b[0m\n\u001b[1;32m   1311\u001b[0m       return self._call_tf_sessionrun(\n\u001b[0;32m-> 1312\u001b[0;31m           options, feed_dict, fetch_list, target_list, run_metadata)\n\u001b[0m\u001b[1;32m   1313\u001b[0m \u001b[0;34m\u001b[0m\u001b[0m\n\u001b[1;32m   1314\u001b[0m     \u001b[0;32mdef\u001b[0m \u001b[0m_prun_fn\u001b[0m\u001b[0;34m(\u001b[0m\u001b[0mhandle\u001b[0m\u001b[0;34m,\u001b[0m \u001b[0mfeed_dict\u001b[0m\u001b[0;34m,\u001b[0m \u001b[0mfetch_list\u001b[0m\u001b[0;34m)\u001b[0m\u001b[0;34m:\u001b[0m\u001b[0;34m\u001b[0m\u001b[0m\n",
      "\u001b[0;32m/anaconda2/lib/python2.7/site-packages/tensorflow/python/client/session.pyc\u001b[0m in \u001b[0;36m_call_tf_sessionrun\u001b[0;34m(self, options, feed_dict, fetch_list, target_list, run_metadata)\u001b[0m\n\u001b[1;32m   1418\u001b[0m         return tf_session.TF_Run(\n\u001b[1;32m   1419\u001b[0m             \u001b[0mself\u001b[0m\u001b[0;34m.\u001b[0m\u001b[0m_session\u001b[0m\u001b[0;34m,\u001b[0m \u001b[0moptions\u001b[0m\u001b[0;34m,\u001b[0m \u001b[0mfeed_dict\u001b[0m\u001b[0;34m,\u001b[0m \u001b[0mfetch_list\u001b[0m\u001b[0;34m,\u001b[0m \u001b[0mtarget_list\u001b[0m\u001b[0;34m,\u001b[0m\u001b[0;34m\u001b[0m\u001b[0m\n\u001b[0;32m-> 1420\u001b[0;31m             status, run_metadata)\n\u001b[0m\u001b[1;32m   1421\u001b[0m \u001b[0;34m\u001b[0m\u001b[0m\n\u001b[1;32m   1422\u001b[0m   \u001b[0;32mdef\u001b[0m \u001b[0m_call_tf_sessionprun\u001b[0m\u001b[0;34m(\u001b[0m\u001b[0mself\u001b[0m\u001b[0;34m,\u001b[0m \u001b[0mhandle\u001b[0m\u001b[0;34m,\u001b[0m \u001b[0mfeed_dict\u001b[0m\u001b[0;34m,\u001b[0m \u001b[0mfetch_list\u001b[0m\u001b[0;34m)\u001b[0m\u001b[0;34m:\u001b[0m\u001b[0;34m\u001b[0m\u001b[0m\n",
      "\u001b[0;31mKeyboardInterrupt\u001b[0m: "
     ]
    }
   ],
   "source": [
    "sess = tf.InteractiveSession()\n",
    "saver = tf.train.Saver()\n",
    "sess.run(tf.global_variables_initializer())\n",
    "\n",
    "for epoch in range(training_epochs):\n",
    "    new_cost = 0.0\n",
    "    total_batch = int(len(x_train) / batchSize)\n",
    "    x_batches = np.array_split(x_train, total_batch)\n",
    "    y_batches = np.array_split(y_train, total_batch)\n",
    "    for i in range(total_batch):\n",
    "        batch_x, batch_y = x_batches[i], y_batches[i]\n",
    "        _, c = sess.run([optimizer, loss], \n",
    "                        feed_dict={data: batch_x, labels: batch_y})\n",
    "        new_cost = c\n",
    "    if epoch % display_step == 0:\n",
    "        print(\"Epoch:\", '%04d' % (epoch+1), \"cost=\", \\\n",
    "            \"{:.9f}\".format(new_cost))\n",
    "print(\"Optimization Finished!\")"
   ]
  },
  {
   "cell_type": "code",
   "execution_count": 18,
   "metadata": {},
   "outputs": [
    {
     "name": "stdout",
     "output_type": "stream",
     "text": [
      "INFO:tensorflow:Restoring parameters from models/model2.ckpt\n"
     ]
    }
   ],
   "source": [
    "sess = tf.InteractiveSession()\n",
    "saver = tf.train.Saver()\n",
    "saver.restore(sess, tf.train.latest_checkpoint('models'))"
   ]
  },
  {
   "cell_type": "code",
   "execution_count": 19,
   "metadata": {},
   "outputs": [
    {
     "ename": "NameError",
     "evalue": "name 'x_train' is not defined",
     "output_type": "error",
     "traceback": [
      "\u001b[0;31m---------------------------------------------------------------------------\u001b[0m",
      "\u001b[0;31mNameError\u001b[0m                                 Traceback (most recent call last)",
      "\u001b[0;32m<ipython-input-19-4523832f7b9e>\u001b[0m in \u001b[0;36m<module>\u001b[0;34m()\u001b[0m\n\u001b[0;32m----> 1\u001b[0;31m \u001b[0mtest_batches\u001b[0m \u001b[0;34m=\u001b[0m \u001b[0mint\u001b[0m\u001b[0;34m(\u001b[0m\u001b[0mlen\u001b[0m\u001b[0;34m(\u001b[0m\u001b[0mx_train\u001b[0m\u001b[0;34m)\u001b[0m \u001b[0;34m/\u001b[0m \u001b[0mbatchSize\u001b[0m\u001b[0;34m)\u001b[0m\u001b[0;34m\u001b[0m\u001b[0m\n\u001b[0m\u001b[1;32m      2\u001b[0m \u001b[0mx_batches\u001b[0m \u001b[0;34m=\u001b[0m \u001b[0mnp\u001b[0m\u001b[0;34m.\u001b[0m\u001b[0marray_split\u001b[0m\u001b[0;34m(\u001b[0m\u001b[0mx_val\u001b[0m\u001b[0;34m,\u001b[0m \u001b[0mtest_batches\u001b[0m\u001b[0;34m)\u001b[0m\u001b[0;34m\u001b[0m\u001b[0m\n\u001b[1;32m      3\u001b[0m \u001b[0my_batches\u001b[0m \u001b[0;34m=\u001b[0m \u001b[0mnp\u001b[0m\u001b[0;34m.\u001b[0m\u001b[0marray_split\u001b[0m\u001b[0;34m(\u001b[0m\u001b[0my_val\u001b[0m\u001b[0;34m,\u001b[0m \u001b[0mtest_batches\u001b[0m\u001b[0;34m)\u001b[0m\u001b[0;34m\u001b[0m\u001b[0m\n\u001b[1;32m      4\u001b[0m \u001b[0;32mfor\u001b[0m \u001b[0mi\u001b[0m \u001b[0;32min\u001b[0m \u001b[0mrange\u001b[0m\u001b[0;34m(\u001b[0m\u001b[0mtest_batches\u001b[0m\u001b[0;34m)\u001b[0m\u001b[0;34m:\u001b[0m\u001b[0;34m\u001b[0m\u001b[0m\n\u001b[1;32m      5\u001b[0m     \u001b[0mbatch_x\u001b[0m\u001b[0;34m,\u001b[0m \u001b[0mbatch_y\u001b[0m \u001b[0;34m=\u001b[0m \u001b[0mx_batches\u001b[0m\u001b[0;34m[\u001b[0m\u001b[0mi\u001b[0m\u001b[0;34m]\u001b[0m\u001b[0;34m,\u001b[0m \u001b[0my_batches\u001b[0m\u001b[0;34m[\u001b[0m\u001b[0mi\u001b[0m\u001b[0;34m]\u001b[0m\u001b[0;34m\u001b[0m\u001b[0m\n",
      "\u001b[0;31mNameError\u001b[0m: name 'x_train' is not defined"
     ]
    }
   ],
   "source": [
    "test_batches = int(len(x_train) / batchSize)\n",
    "x_batches = np.array_split(x_val, test_batches)\n",
    "y_batches = np.array_split(y_val, test_batches)\n",
    "for i in range(test_batches):\n",
    "    batch_x, batch_y = x_batches[i], y_batches[i]\n",
    "    acc = sess.run(accuracy, \n",
    "                    feed_dict={data: batch_x, labels: batch_y})\n",
    "    print(\"Accuracy for this batch:\", acc * 100)"
   ]
  },
  {
   "cell_type": "code",
   "execution_count": 20,
   "metadata": {},
   "outputs": [
    {
     "name": "stdout",
     "output_type": "stream",
     "text": [
      "Index([u'text', u'labels'], dtype='object')\n"
     ]
    }
   ],
   "source": [
    "test_df = pd.read_csv('test.csv')\n",
    "print test_df.columns\n",
    "test_text = test_df['text'].values\n",
    "test_labels = test_df['labels'].values\n",
    "numTest = test_text.shape[0]"
   ]
  },
  {
   "cell_type": "code",
   "execution_count": 21,
   "metadata": {},
   "outputs": [],
   "source": [
    "strip_special_chars = re.compile(\"[^A-Za-z0-9 ]+\")\n",
    "\n",
    "def cleanSentences(string):\n",
    "    string = string.lower().replace(\"<br />\", \" \")\n",
    "    return re.sub(strip_special_chars, \"\", string.lower())"
   ]
  },
  {
   "cell_type": "code",
   "execution_count": 22,
   "metadata": {},
   "outputs": [],
   "source": [
    "# stories x the first 200 words\n",
    "test_matrix = np.empty((numTest, maxSeqLength), dtype='object')\n",
    "story_index = 0\n",
    "for story in test_text:\n",
    "    words = np.empty((maxSeqLength), dtype='object')\n",
    "    indexCounter = 0\n",
    "    cleanedLine = cleanSentences(story)\n",
    "    split = cleanedLine.split()\n",
    "    if len(split)< maxSeqLength:\n",
    "        indexCounter = maxSeqLength-len(split)\n",
    "    else:\n",
    "        split = split[:maxSeqLength]\n",
    "    for word in split:\n",
    "        words[indexCounter] = word\n",
    "        indexCounter = indexCounter + 1\n",
    "    test_matrix[story_index] = words\n",
    "    story_index+=1"
   ]
  },
  {
   "cell_type": "code",
   "execution_count": 23,
   "metadata": {},
   "outputs": [
    {
     "name": "stdout",
     "output_type": "stream",
     "text": [
      "(39, 200, 100)\n"
     ]
    }
   ],
   "source": [
    "test_data = [[word2vec(w) for w in story] for story in test_matrix]\n",
    "test_data = np.array(test_data)\n",
    "print test_data.shape\n",
    "binary_labels = one_hot_encode(test_labels)"
   ]
  },
  {
   "cell_type": "code",
   "execution_count": 25,
   "metadata": {},
   "outputs": [
    {
     "name": "stdout",
     "output_type": "stream",
     "text": [
      "('Prediction:', 'FAKE', 'Actual:', 'FAKE')\n",
      "('Prediction:', 'FAKE', 'Actual:', 'FAKE')\n",
      "('Prediction:', 'FAKE', 'Actual:', 'FAKE')\n",
      "('Prediction:', 'FAKE', 'Actual:', 'FAKE')\n",
      "('Prediction:', 'FAKE', 'Actual:', 'FAKE')\n",
      "('Prediction:', 'FAKE', 'Actual:', 'FAKE')\n",
      "('Prediction:', 'FAKE', 'Actual:', 'FAKE')\n",
      "('Prediction:', 'FAKE', 'Actual:', 'FAKE')\n",
      "('Prediction:', 'FAKE', 'Actual:', 'FAKE')\n",
      "('Prediction:', 'FAKE', 'Actual:', 'FAKE')\n",
      "('Prediction:', 'FAKE', 'Actual:', 'FAKE')\n",
      "('Prediction:', 'FAKE', 'Actual:', 'FAKE')\n",
      "('Prediction:', 'FAKE', 'Actual:', 'FAKE')\n",
      "('Prediction:', 'FAKE', 'Actual:', 'FAKE')\n",
      "('Prediction:', 'FAKE', 'Actual:', 'FAKE')\n",
      "('Prediction:', 'FAKE', 'Actual:', 'FAKE')\n",
      "('Prediction:', 'FAKE', 'Actual:', 'FAKE')\n",
      "('Prediction:', 'FAKE', 'Actual:', 'FAKE')\n",
      "('Prediction:', 'FAKE', 'Actual:', 'FAKE')\n",
      "('Prediction:', 'FAKE', 'Actual:', 'FAKE')\n",
      "('Prediction:', 'FAKE', 'Actual:', 'FAKE')\n",
      "('Prediction:', 'FAKE', 'Actual:', 'FAKE')\n",
      "('Prediction:', 'FAKE', 'Actual:', 'FAKE')\n",
      "('Prediction:', 'FAKE', 'Actual:', 'FAKE')\n",
      "('Prediction:', 'REAL', 'Actual:', 'REAL')\n",
      "('Prediction:', 'REAL', 'Actual:', 'REAL')\n",
      "('Prediction:', 'REAL', 'Actual:', 'REAL')\n",
      "('Prediction:', 'REAL', 'Actual:', 'REAL')\n",
      "('Prediction:', 'REAL', 'Actual:', 'REAL')\n",
      "('Prediction:', 'REAL', 'Actual:', 'REAL')\n",
      "('Prediction:', 'REAL', 'Actual:', 'REAL')\n",
      "('Prediction:', 'REAL', 'Actual:', 'REAL')\n",
      "('Prediction:', 'REAL', 'Actual:', 'REAL')\n",
      "('Prediction:', 'REAL', 'Actual:', 'REAL')\n",
      "('Prediction:', 'REAL', 'Actual:', 'REAL')\n",
      "('Prediction:', 'REAL', 'Actual:', 'REAL')\n",
      "('Prediction:', 'REAL', 'Actual:', 'REAL')\n",
      "('Prediction:', 'REAL', 'Actual:', 'REAL')\n",
      "('Prediction:', 'REAL', 'Actual:', 'REAL')\n"
     ]
    }
   ],
   "source": [
    "for datum in range(len(test_data)):\n",
    "    pred = sess.run(prediction, feed_dict={data: test_data[datum].reshape(1,200,100), labels: binary_labels[datum].reshape(1,2)})\n",
    "    ind = tf.argmax(pred,1).eval()\n",
    "    label = ''\n",
    "    if ind[0] == 0:\n",
    "        label = 'FAKE'\n",
    "    else:\n",
    "        label = \"REAL\"\n",
    "    print(\"Prediction:\", label, 'Actual:', test_labels[datum])"
   ]
  },
  {
   "cell_type": "code",
   "execution_count": null,
   "metadata": {},
   "outputs": [],
   "source": []
  },
  {
   "cell_type": "code",
   "execution_count": 77,
   "metadata": {},
   "outputs": [],
   "source": [
    "#np.save('test_data', test_data)\n",
    "#np.save('test_binary_labels', binary_labels)"
   ]
  },
  {
   "cell_type": "code",
   "execution_count": null,
   "metadata": {},
   "outputs": [],
   "source": []
  }
 ],
 "metadata": {
  "kernelspec": {
   "display_name": "Python 2",
   "language": "python",
   "name": "python2"
  },
  "language_info": {
   "codemirror_mode": {
    "name": "ipython",
    "version": 2
   },
   "file_extension": ".py",
   "mimetype": "text/x-python",
   "name": "python",
   "nbconvert_exporter": "python",
   "pygments_lexer": "ipython2",
   "version": "2.7.14"
  }
 },
 "nbformat": 4,
 "nbformat_minor": 2
}
