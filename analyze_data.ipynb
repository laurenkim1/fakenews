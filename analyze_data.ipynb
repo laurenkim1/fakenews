{
 "cells": [
  {
   "cell_type": "code",
   "execution_count": 1,
   "metadata": {},
   "outputs": [],
   "source": [
    "import numpy as np \n",
    "import pandas as pd \n",
    "import re\n",
    "from random import randint\n",
    "\n",
    "maxSeqLength = 250\n",
    "batchSize = 24\n",
    "lstmUnits = 64\n",
    "numClasses = 2\n",
    "iterations = 100000\n",
    "numStories = 63000"
   ]
  },
  {
   "cell_type": "code",
   "execution_count": 2,
   "metadata": {},
   "outputs": [
    {
     "name": "stdout",
     "output_type": "stream",
     "text": [
      "Index([u'uuid', u'ord_in_thread', u'author', u'published', u'title', u'text',\n",
      "       u'language', u'crawled', u'site_url', u'country', u'domain_rank',\n",
      "       u'thread_title', u'spam_score', u'main_img_url', u'replies_count',\n",
      "       u'participants_count', u'likes', u'comments', u'shares', u'type'],\n",
      "      dtype='object')\n"
     ]
    }
   ],
   "source": [
    "fake_df = pd.read_csv('fake.csv')\n",
    "print fake_df.columns\n",
    "fake_text = fake_df['text'].values"
   ]
  },
  {
   "cell_type": "code",
   "execution_count": 3,
   "metadata": {},
   "outputs": [
    {
     "name": "stdout",
     "output_type": "stream",
     "text": [
      "Index([u'content', u'id', u'media-type', u'published', u'source', u'title'], dtype='object')\n"
     ]
    }
   ],
   "source": [
    "real_df = pd.read_json('signalmedia-1m.jsonl',lines=True)\n",
    "print real_df.columns\n",
    "real_text = real_df['content'].values"
   ]
  },
  {
   "cell_type": "code",
   "execution_count": 4,
   "metadata": {},
   "outputs": [],
   "source": [
    "# choose 50,000 random stories from the real dataset\n",
    "real_i = np.random.choice(len(real_text), size=50000, replace=False)\n",
    "real_text = real_text[real_i]"
   ]
  },
  {
   "cell_type": "code",
   "execution_count": 5,
   "metadata": {},
   "outputs": [],
   "source": [
    "def loadGloveModel():\n",
    "    print \"Loading Glove Model\"\n",
    "    f = open('glove.42B.300d.txt','r')\n",
    "    model = {}\n",
    "    for line in f:\n",
    "        splitLine = line.split()\n",
    "        word = splitLine[0]\n",
    "        embedding = np.array([float(val) for val in splitLine[1:]])\n",
    "        model[word] = embedding\n",
    "    print \"Done.\",len(model),\" words loaded!\"\n",
    "    return model"
   ]
  },
  {
   "cell_type": "code",
   "execution_count": 6,
   "metadata": {},
   "outputs": [
    {
     "name": "stdout",
     "output_type": "stream",
     "text": [
      "Loading Glove Model\n"
     ]
    },
    {
     "ename": "KeyboardInterrupt",
     "evalue": "",
     "output_type": "error",
     "traceback": [
      "\u001b[0;31m---------------------------------------------------------------------------\u001b[0m",
      "\u001b[0;31mKeyboardInterrupt\u001b[0m                         Traceback (most recent call last)",
      "\u001b[0;32m<ipython-input-6-bef616edfeeb>\u001b[0m in \u001b[0;36m<module>\u001b[0;34m()\u001b[0m\n\u001b[1;32m      1\u001b[0m \u001b[0;31m# glove word-vec dictionary\u001b[0m\u001b[0;34m\u001b[0m\u001b[0;34m\u001b[0m\u001b[0m\n\u001b[0;32m----> 2\u001b[0;31m \u001b[0mglove\u001b[0m \u001b[0;34m=\u001b[0m \u001b[0mloadGloveModel\u001b[0m\u001b[0;34m(\u001b[0m\u001b[0;34m)\u001b[0m\u001b[0;34m\u001b[0m\u001b[0m\n\u001b[0m",
      "\u001b[0;32m<ipython-input-5-8ecf728f03e8>\u001b[0m in \u001b[0;36mloadGloveModel\u001b[0;34m()\u001b[0m\n\u001b[1;32m      6\u001b[0m         \u001b[0msplitLine\u001b[0m \u001b[0;34m=\u001b[0m \u001b[0mline\u001b[0m\u001b[0;34m.\u001b[0m\u001b[0msplit\u001b[0m\u001b[0;34m(\u001b[0m\u001b[0;34m)\u001b[0m\u001b[0;34m\u001b[0m\u001b[0m\n\u001b[1;32m      7\u001b[0m         \u001b[0mword\u001b[0m \u001b[0;34m=\u001b[0m \u001b[0msplitLine\u001b[0m\u001b[0;34m[\u001b[0m\u001b[0;36m0\u001b[0m\u001b[0;34m]\u001b[0m\u001b[0;34m\u001b[0m\u001b[0m\n\u001b[0;32m----> 8\u001b[0;31m         \u001b[0membedding\u001b[0m \u001b[0;34m=\u001b[0m \u001b[0mnp\u001b[0m\u001b[0;34m.\u001b[0m\u001b[0marray\u001b[0m\u001b[0;34m(\u001b[0m\u001b[0;34m[\u001b[0m\u001b[0mfloat\u001b[0m\u001b[0;34m(\u001b[0m\u001b[0mval\u001b[0m\u001b[0;34m)\u001b[0m \u001b[0;32mfor\u001b[0m \u001b[0mval\u001b[0m \u001b[0;32min\u001b[0m \u001b[0msplitLine\u001b[0m\u001b[0;34m[\u001b[0m\u001b[0;36m1\u001b[0m\u001b[0;34m:\u001b[0m\u001b[0;34m]\u001b[0m\u001b[0;34m]\u001b[0m\u001b[0;34m)\u001b[0m\u001b[0;34m\u001b[0m\u001b[0m\n\u001b[0m\u001b[1;32m      9\u001b[0m         \u001b[0mmodel\u001b[0m\u001b[0;34m[\u001b[0m\u001b[0mword\u001b[0m\u001b[0;34m]\u001b[0m \u001b[0;34m=\u001b[0m \u001b[0membedding\u001b[0m\u001b[0;34m\u001b[0m\u001b[0m\n\u001b[1;32m     10\u001b[0m     \u001b[0;32mprint\u001b[0m \u001b[0;34m\"Done.\"\u001b[0m\u001b[0;34m,\u001b[0m\u001b[0mlen\u001b[0m\u001b[0;34m(\u001b[0m\u001b[0mmodel\u001b[0m\u001b[0;34m)\u001b[0m\u001b[0;34m,\u001b[0m\u001b[0;34m\" words loaded!\"\u001b[0m\u001b[0;34m\u001b[0m\u001b[0m\n",
      "\u001b[0;31mKeyboardInterrupt\u001b[0m: "
     ]
    }
   ],
   "source": [
    "# glove word-vec dictionary\n",
    "glove = loadGloveModel()"
   ]
  },
  {
   "cell_type": "code",
   "execution_count": 5,
   "metadata": {},
   "outputs": [],
   "source": [
    "strip_special_chars = re.compile(\"[^A-Za-z0-9 ]+\")\n",
    "\n",
    "def cleanSentences(string):\n",
    "    string = string.lower().replace(\"<br />\", \" \")\n",
    "    return re.sub(strip_special_chars, \"\", string.lower())"
   ]
  },
  {
   "cell_type": "code",
   "execution_count": 17,
   "metadata": {},
   "outputs": [],
   "source": [
    "# stories x the first 200 words\n",
    "train_matrix = np.empty((numStories, maxSeqLength+1), dtype='object')\n",
    "story_index = 0\n",
    "for story in real_text:\n",
    "    words = np.empty((maxSeqLength+1), dtype='object')\n",
    "    indexCounter = 0\n",
    "    cleanedLine = cleanSentences(story)\n",
    "    split = cleanedLine.split()\n",
    "    if len(split)< maxSeqLength:\n",
    "        indexCounter = maxSeqLength-len(split)\n",
    "    else:\n",
    "        split = split[:maxSeqLength]\n",
    "    for word in split:\n",
    "        words[indexCounter] = word\n",
    "        indexCounter = indexCounter + 1\n",
    "    words[maxSeqLength]=\"REAL\"\n",
    "    train_matrix[story_index] = words\n",
    "    story_index+=1\n",
    "\n",
    "for story in fake_text:\n",
    "    words = np.empty((maxSeqLength+1), dtype='object')\n",
    "    indexCounter = 0\n",
    "    if type(story) is float:\n",
    "        story = str(story)\n",
    "    cleanedLine = cleanSentences(story)\n",
    "    split = cleanedLine.split()\n",
    "    if len(split)< maxSeqLength:\n",
    "        indexCounter = maxSeqLength-len(split)\n",
    "    else:\n",
    "        split = split[:maxSeqLength]\n",
    "    for word in split:\n",
    "        words[indexCounter] = word\n",
    "        indexCounter = indexCounter + 1\n",
    "    words[maxSeqLength]=\"Fake\"\n",
    "    train_matrix[story_index] = words\n",
    "    story_index+=1\n",
    "\n",
    "np.save('train_matrix', train_matrix)"
   ]
  },
  {
   "cell_type": "code",
   "execution_count": null,
   "metadata": {},
   "outputs": [],
   "source": []
  }
 ],
 "metadata": {
  "kernelspec": {
   "display_name": "Python 2",
   "language": "python",
   "name": "python2"
  },
  "language_info": {
   "codemirror_mode": {
    "name": "ipython",
    "version": 2
   },
   "file_extension": ".py",
   "mimetype": "text/x-python",
   "name": "python",
   "nbconvert_exporter": "python",
   "pygments_lexer": "ipython2",
   "version": "2.7.14"
  }
 },
 "nbformat": 4,
 "nbformat_minor": 2
}
